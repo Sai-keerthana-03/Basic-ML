{
  "nbformat": 4,
  "nbformat_minor": 0,
  "metadata": {
    "colab": {
      "name": "Untitled1.ipynb",
      "provenance": [],
      "collapsed_sections": [],
      "authorship_tag": "ABX9TyPWQRyBSe1XWHigteF4d+os",
      "include_colab_link": true
    },
    "kernelspec": {
      "name": "python3",
      "display_name": "Python 3"
    },
    "language_info": {
      "name": "python"
    }
  },
  "cells": [
    {
      "cell_type": "markdown",
      "metadata": {
        "id": "view-in-github",
        "colab_type": "text"
      },
      "source": [
        "<a href=\"https://colab.research.google.com/github/Sai-keerthana-03/Basic-ML/blob/main/Untitled1.ipynb\" target=\"_parent\"><img src=\"https://colab.research.google.com/assets/colab-badge.svg\" alt=\"Open In Colab\"/></a>"
      ]
    },
    {
      "cell_type": "markdown",
      "metadata": {
        "id": "5UtB0a05NAaC"
      },
      "source": [
        "# SIMPLE PROGRAMS \n",
        "- PRINTING HELLO,WORLD\n",
        "- ADDING TWO NUMBERS\n",
        "- COMPARING TWO NUMBERS\n"
      ]
    },
    {
      "cell_type": "code",
      "metadata": {
        "colab": {
          "base_uri": "https://localhost:8080/"
        },
        "id": "lsNdn4CMNXgE",
        "outputId": "464ba634-2701-435b-bd10-d66fa6863355"
      },
      "source": [
        "print('hello,world!')"
      ],
      "execution_count": null,
      "outputs": [
        {
          "output_type": "stream",
          "text": [
            "hello,world!\n"
          ],
          "name": "stdout"
        }
      ]
    },
    {
      "cell_type": "code",
      "metadata": {
        "colab": {
          "base_uri": "https://localhost:8080/"
        },
        "id": "Cl4_8OZcM_Ru",
        "outputId": "11065146-cef7-4f65-82d9-057eb12cb43c"
      },
      "source": [
        "a = int(5)\n",
        "b = int(8)\n",
        "print(a + b)"
      ],
      "execution_count": null,
      "outputs": [
        {
          "output_type": "stream",
          "text": [
            "13\n"
          ],
          "name": "stdout"
        }
      ]
    },
    {
      "cell_type": "code",
      "metadata": {
        "colab": {
          "base_uri": "https://localhost:8080/"
        },
        "id": "RMP6GCzuNoxQ",
        "outputId": "6404b7cd-a0b8-47ef-aff1-5918931329b8"
      },
      "source": [
        "a = 34\n",
        "b = 65\n",
        "if a>b:\n",
        "  print('a is greater than b')\n",
        "elif b>a:\n",
        "  print('b is greater than a')\n",
        "else:\n",
        "  print('a = b')"
      ],
      "execution_count": null,
      "outputs": [
        {
          "output_type": "stream",
          "text": [
            "b is greater than a\n"
          ],
          "name": "stdout"
        }
      ]
    }
  ]
}